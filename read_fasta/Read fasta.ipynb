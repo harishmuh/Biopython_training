{
 "cells": [
  {
   "cell_type": "markdown",
   "id": "126f2a2a-c791-4de1-bcf5-046baf9d7956",
   "metadata": {},
   "source": [
    "# **Basic of bioinformatics: Read fasta file**"
   ]
  },
  {
   "cell_type": "markdown",
   "id": "e8745454-8366-4825-8262-ffad890a6b00",
   "metadata": {},
   "source": [
    "## **Read single fasta**\n",
    "\n",
    "* Fasta files are text-files that contains nucleotide (DNA) or peptide (amino acids) sequence\n",
    "* Single fasta contains single record or multi fasta contains two or more records\n",
    "* Fasta files can be read using biopython library."
   ]
  },
  {
   "cell_type": "code",
   "execution_count": 2,
   "id": "75f71cc3-c484-4536-b2f2-0bafbd3e14fe",
   "metadata": {},
   "outputs": [],
   "source": [
    "# Importing library\n",
    "from Bio import SeqIO"
   ]
  },
  {
   "cell_type": "code",
   "execution_count": 12,
   "id": "9210ecef-3bdb-41bd-9c42-e7a2ed9776fd",
   "metadata": {},
   "outputs": [],
   "source": [
    "# Creating Path to the fasta file\n",
    "# Copy the path from the folder directory\n",
    "filename ='C:/Users/Lenovo/Documents/1. Bioinformatics/1. Bioinformatic practices/sequence.fasta'"
   ]
  },
  {
   "cell_type": "code",
   "execution_count": 14,
   "id": "4cf91ab8-69fd-4b58-94c4-280f676d7b9c",
   "metadata": {},
   "outputs": [
    {
     "name": "stdout",
     "output_type": "stream",
     "text": [
      "['.ipynb_checkpoints', 'Read fasta.ipynb', 'sequence.fasta']\n"
     ]
    }
   ],
   "source": [
    "# Checking the directory\n",
    "import os\n",
    "print(os.listdir('C:/Users/Lenovo/Documents/1. Bioinformatics/1. Bioinformatic practices'))"
   ]
  },
  {
   "cell_type": "code",
   "execution_count": 13,
   "id": "fb9a2fed-684b-4248-854f-ddea611c3287",
   "metadata": {},
   "outputs": [],
   "source": [
    "# Read the fasta file \n",
    "seq_object = SeqIO.read(filename, \"fasta\") # 'Read' for single record"
   ]
  },
  {
   "cell_type": "code",
   "execution_count": 17,
   "id": "aafe9879-42dc-4568-b35a-e89004dc7843",
   "metadata": {},
   "outputs": [
    {
     "data": {
      "text/plain": [
       "Bio.SeqRecord.SeqRecord"
      ]
     },
     "execution_count": 17,
     "metadata": {},
     "output_type": "execute_result"
    }
   ],
   "source": [
    "# Display the file type\n",
    "type(seq_object)"
   ]
  },
  {
   "cell_type": "code",
   "execution_count": 16,
   "id": "aec5272e-340c-4e7f-ad81-5defb54103c6",
   "metadata": {},
   "outputs": [
    {
     "name": "stdout",
     "output_type": "stream",
     "text": [
      "NG_047557.1\n",
      "CGGGCCATTTTGCGTAATAAGAAAAAGGATTAATTATGAGCGAATTGAATTAATAATAAGGTAATAGATTTACATTAGAAAATGAAAGGGGATTTTATGCGTGAGAATGTTACAGTCTATCCCGGCATTGCCAGTCGGGGATATTAAAAAGAGTATAGGTTTTTATTGCGATAAACTAGGTTTCACTTTGGTTCACCATGAAGATGGATTCGCAGTTCTAATGTGTAATGAGGTTCGGATTCATCTATGGGAGGCAAGTGATGAAGGCTGGCGCTCTCGTAGTAATGATTCACCGGTTTGTACAGGTGCGGAGTCGTTTATTGCTGGTACTGCTAGTTGCCGCATTGAAGTAGAGGGAATTGATGAATTATATCAACATATTAAGCCTTTGGGCATTTTGCACCCCAATACATCATTAAAAGATCAGTGGTGGGATGAACGAGACTTTGCAGTAATTGATCCCGACAACAATTTGATTAGCTTTTTTCAACAAATAAAAAGCTAAAATCTATTATTAATCTGTTCAGCAATCGGGCGCGATTGCTGAATAAAAGATACGAGAGACCTCTCTTGTATCTTTTTTATTTTGAGTGGTTTTGTCCGTT\n"
     ]
    }
   ],
   "source": [
    "# Displaying the sequence info\n",
    "print(seq_object.id) # Print the sequence ID\n",
    "print(seq_object.seq) # Print the sequence\n"
   ]
  },
  {
   "cell_type": "code",
   "execution_count": 19,
   "id": "edf476bd-179a-4770-9ef2-9d0fc513fd7f",
   "metadata": {},
   "outputs": [
    {
     "data": {
      "text/plain": [
       "'NG_047557.1'"
      ]
     },
     "execution_count": 19,
     "metadata": {},
     "output_type": "execute_result"
    }
   ],
   "source": [
    "# Add sequence name\n",
    "seq_name = seq_object.name\n",
    "seq_name"
   ]
  },
  {
   "cell_type": "code",
   "execution_count": 22,
   "id": "201d6074-688c-487b-8423-12548db31418",
   "metadata": {},
   "outputs": [
    {
     "data": {
      "text/plain": [
       "'NG_047557.1 Staphylococcus aureus N315 bleO gene for bleomycin binding protein, complete CDS'"
      ]
     },
     "execution_count": 22,
     "metadata": {},
     "output_type": "execute_result"
    }
   ],
   "source": [
    "# Sequence description\n",
    "description = seq_object.description\n",
    "description"
   ]
  },
  {
   "cell_type": "code",
   "execution_count": 23,
   "id": "00762cda-0388-418d-8681-c901d3efbcb8",
   "metadata": {},
   "outputs": [
    {
     "data": {
      "text/plain": [
       "605"
      ]
     },
     "execution_count": 23,
     "metadata": {},
     "output_type": "execute_result"
    }
   ],
   "source": [
    "# Length of the sequence (base pairs)\n",
    "len(seq_object)"
   ]
  },
  {
   "cell_type": "markdown",
   "id": "843f04ea-158a-4620-8c9c-f11b1cd87d1c",
   "metadata": {},
   "source": [
    "## **Read multiple fasta files**"
   ]
  },
  {
   "cell_type": "markdown",
   "id": "8e9b55e0-f106-4e74-b7e4-c7780cd73f32",
   "metadata": {},
   "source": [
    "* A **multi-fasta** file contains two or more sequence records\n",
    "\n",
    "* Using iterations ( for/while loops), analysis can be done on all or some of the sequences\n",
    "\n",
    "* When working with several sequences, the results of the analysis can be better organized using **pandas** library"
   ]
  },
  {
   "cell_type": "code",
   "execution_count": 24,
   "id": "503e6e7f-7a94-4bca-9e84-33b4653f0762",
   "metadata": {},
   "outputs": [],
   "source": [
    "# importing python libraries to be used\n",
    "\n",
    "from Bio import SeqIO\n",
    "import pandas as pd\n",
    "import os"
   ]
  },
  {
   "cell_type": "code",
   "execution_count": 25,
   "id": "ec4ff851-c0ea-4892-aa48-f3dc632f210c",
   "metadata": {},
   "outputs": [],
   "source": [
    "# Creating Path to the fasta file\n",
    "# Copy the path from the folder directory\n",
    "filepath ='C:/Users/Lenovo/Documents/1. Bioinformatics/1. Bioinformatic practices/multi-fasta.fa'"
   ]
  },
  {
   "cell_type": "code",
   "execution_count": 26,
   "id": "37ec94e5-5c7f-43ef-8434-050cb58789a7",
   "metadata": {},
   "outputs": [],
   "source": [
    "# Parsing or reading multiple fasta files\n",
    "# 'parse' for analyze more than one record\n",
    "seq_object1 = SeqIO.parse(filepath,'fasta') # parse means analyse into its parts\n",
    "\n",
    "# Creating empty list\n",
    "sequences = []\n",
    "\n",
    "# Inserting into the list named 'sequences'\n",
    "for seq in seq_object1:\n",
    "    sequences.append(seq)"
   ]
  },
  {
   "cell_type": "code",
   "execution_count": 27,
   "id": "e191da80-a204-470b-8f6d-580ccdc69c14",
   "metadata": {},
   "outputs": [
    {
     "data": {
      "text/plain": [
       "5"
      ]
     },
     "execution_count": 27,
     "metadata": {},
     "output_type": "execute_result"
    }
   ],
   "source": [
    "# Length or number of sequence in sequences list\n",
    "len(sequences)"
   ]
  },
  {
   "cell_type": "code",
   "execution_count": 28,
   "id": "a2951ee3-a335-4d1d-827d-f97e9f4869c1",
   "metadata": {},
   "outputs": [
    {
     "data": {
      "text/plain": [
       "'CP029082.1'"
      ]
     },
     "execution_count": 28,
     "metadata": {},
     "output_type": "execute_result"
    }
   ],
   "source": [
    "# Checking the id of first sequence in 'sequences list'\n",
    "sequences[0].id"
   ]
  },
  {
   "cell_type": "code",
   "execution_count": 29,
   "id": "ce1e38ee-631f-4e09-818d-75fc5821fb72",
   "metadata": {},
   "outputs": [
    {
     "data": {
      "text/plain": [
       "'CP029082.1 Staphylococcus aureus strain AR465 chromosome, complete genome'"
      ]
     },
     "execution_count": 29,
     "metadata": {},
     "output_type": "execute_result"
    }
   ],
   "source": [
    "# Checking the description of first sequence\n",
    "sequences[0].description"
   ]
  },
  {
   "cell_type": "code",
   "execution_count": 42,
   "id": "40a37e94-69e7-4f7d-8956-c53171ea53ce",
   "metadata": {},
   "outputs": [
    {
     "name": "stdout",
     "output_type": "stream",
     "text": [
      "ID: CP029082.1\n",
      "Name: CP029082.1\n",
      "Description: CP029082.1 Staphylococcus aureus strain AR465 chromosome, complete genome\n",
      "Length: 2911287\n",
      "-------------------------------------------------\n",
      "ID: CP030138.1\n",
      "Name: CP030138.1\n",
      "Description: CP030138.1 Staphylococcus aureus strain M48 chromosome, complete genome\n",
      "Length: 3050015\n",
      "-------------------------------------------------\n",
      "ID: CP039157.1\n",
      "Name: CP039157.1\n",
      "Description: CP039157.1 Staphylococcus aureus strain P10 chromosome, complete genome\n",
      "Length: 2970728\n",
      "-------------------------------------------------\n",
      "ID: CP039167.1\n",
      "Name: CP039167.1\n",
      "Description: CP039167.1 Staphylococcus aureus strain R50 chromosome, complete genome\n",
      "Length: 2866643\n",
      "-------------------------------------------------\n",
      "ID: CP013957.1\n",
      "Name: CP013957.1\n",
      "Description: CP013957.1 Staphylococcus aureus strain V521, complete genome\n",
      "Length: 3085555\n",
      "-------------------------------------------------\n"
     ]
    }
   ],
   "source": [
    "# Creating for loop\n",
    "for record in sequences:\n",
    "        seq_id = record.id\n",
    "        seq_name = record.name\n",
    "        seq_description = record.description\n",
    "        seq_record = record.seq\n",
    "        seq_length = len(seq_record)\n",
    "\n",
    "        # Display sequence information\n",
    "        print(f\"ID: {seq_id}\")\n",
    "        print(f\"Name: {seq_name}\")\n",
    "        print(f\"Description: {seq_description}\")\n",
    "        print(f\"Length: {seq_length}\")\n",
    "        print('-------------------------------------------------')"
   ]
  },
  {
   "cell_type": "code",
   "execution_count": 40,
   "id": "4129a131-d6ba-4407-a3ef-1fcf7881b23c",
   "metadata": {},
   "outputs": [],
   "source": [
    "# Create a function to read the metadata of a FASTA file\n",
    "# Input is the filepath(directory address)\n",
    "def sequence_file_info(file_path):\n",
    "    sequences = SeqIO.parse(file_path, \"fasta\")\n",
    "    \n",
    "    for record in sequences:\n",
    "        seq_id = record.id\n",
    "        seq_name = record.name\n",
    "        seq_description = record.description\n",
    "        seq_record = record.seq\n",
    "        seq_length = len(seq_record)\n",
    "        \n",
    "        # Display sequence information\n",
    "        print(f\"ID: {seq_id}\")\n",
    "        print(f\"Name: {seq_name}\")\n",
    "        print(f\"Description: {seq_description}\")\n",
    "        print(f\"Length: {seq_length}\")\n",
    "        print('-------------------------------------------------')\n",
    "        #print(f\"Sequence: {seq_record}\\n\")"
   ]
  },
  {
   "cell_type": "code",
   "execution_count": 41,
   "id": "7c5ecc8b-7a1f-4658-9d60-7885dcf198ef",
   "metadata": {},
   "outputs": [
    {
     "name": "stdout",
     "output_type": "stream",
     "text": [
      "ID: CP029082.1\n",
      "Name: CP029082.1\n",
      "Description: CP029082.1 Staphylococcus aureus strain AR465 chromosome, complete genome\n",
      "Length: 2911287\n",
      "-------------------------------------------------\n",
      "ID: CP030138.1\n",
      "Name: CP030138.1\n",
      "Description: CP030138.1 Staphylococcus aureus strain M48 chromosome, complete genome\n",
      "Length: 3050015\n",
      "-------------------------------------------------\n",
      "ID: CP039157.1\n",
      "Name: CP039157.1\n",
      "Description: CP039157.1 Staphylococcus aureus strain P10 chromosome, complete genome\n",
      "Length: 2970728\n",
      "-------------------------------------------------\n",
      "ID: CP039167.1\n",
      "Name: CP039167.1\n",
      "Description: CP039167.1 Staphylococcus aureus strain R50 chromosome, complete genome\n",
      "Length: 2866643\n",
      "-------------------------------------------------\n",
      "ID: CP013957.1\n",
      "Name: CP013957.1\n",
      "Description: CP013957.1 Staphylococcus aureus strain V521, complete genome\n",
      "Length: 3085555\n",
      "-------------------------------------------------\n"
     ]
    }
   ],
   "source": [
    "# Displaying the content of the file\n",
    "# we can just place the address into filepath\n",
    "sequence_file_info(filepath)"
   ]
  },
  {
   "cell_type": "code",
   "execution_count": 46,
   "id": "5d876d5d-5ace-40ce-a0fa-7ed347dcd596",
   "metadata": {},
   "outputs": [
    {
     "name": "stdout",
     "output_type": "stream",
     "text": [
      "1 analysis have completed\n",
      "2 analysis have completed\n",
      "3 analysis have completed\n",
      "4 analysis have completed\n",
      "5 analysis have completed\n"
     ]
    }
   ],
   "source": [
    "# create dataframe in Pandas to save the results\n",
    "\n",
    "# Creating empty lists\n",
    "seq_ids = []\n",
    "seq_lengths = []\n",
    "seq_descs = []\n",
    "\n",
    "# Initialize counter\n",
    "analysis = 0\n",
    "\n",
    "# Perform 'for loop' operation to place record 'IDs', 'lengths', 'desc' into lists\n",
    "for record in sequences:\n",
    "    seq_id = record.id\n",
    "    seq_record = record.seq\n",
    "    seq_length = len(seq_record)\n",
    "    seq_description = record.description\n",
    "    \n",
    "    # Placing into the empty lists\n",
    "    seq_ids.append(seq_id)\n",
    "    seq_lengths.append(seq_length)\n",
    "    seq_descs.append(seq_description)\n",
    "\n",
    "    # Calculating total analysis\n",
    "    analysis = analysis + 1\n",
    "    print(f'{analysis} analysis have completed')\n",
    "    "
   ]
  },
  {
   "cell_type": "code",
   "execution_count": 47,
   "id": "1c545fb7-9238-4e35-af86-5b0726792b21",
   "metadata": {},
   "outputs": [
    {
     "data": {
      "text/html": [
       "<div>\n",
       "<style scoped>\n",
       "    .dataframe tbody tr th:only-of-type {\n",
       "        vertical-align: middle;\n",
       "    }\n",
       "\n",
       "    .dataframe tbody tr th {\n",
       "        vertical-align: top;\n",
       "    }\n",
       "\n",
       "    .dataframe thead th {\n",
       "        text-align: right;\n",
       "    }\n",
       "</style>\n",
       "<table border=\"1\" class=\"dataframe\">\n",
       "  <thead>\n",
       "    <tr style=\"text-align: right;\">\n",
       "      <th></th>\n",
       "      <th>ID</th>\n",
       "      <th>Length</th>\n",
       "      <th>Description</th>\n",
       "    </tr>\n",
       "  </thead>\n",
       "  <tbody>\n",
       "    <tr>\n",
       "      <th>0</th>\n",
       "      <td>CP029082.1</td>\n",
       "      <td>2911287</td>\n",
       "      <td>CP029082.1 Staphylococcus aureus strain AR465 ...</td>\n",
       "    </tr>\n",
       "    <tr>\n",
       "      <th>1</th>\n",
       "      <td>CP030138.1</td>\n",
       "      <td>3050015</td>\n",
       "      <td>CP030138.1 Staphylococcus aureus strain M48 ch...</td>\n",
       "    </tr>\n",
       "    <tr>\n",
       "      <th>2</th>\n",
       "      <td>CP039157.1</td>\n",
       "      <td>2970728</td>\n",
       "      <td>CP039157.1 Staphylococcus aureus strain P10 ch...</td>\n",
       "    </tr>\n",
       "    <tr>\n",
       "      <th>3</th>\n",
       "      <td>CP039167.1</td>\n",
       "      <td>2866643</td>\n",
       "      <td>CP039167.1 Staphylococcus aureus strain R50 ch...</td>\n",
       "    </tr>\n",
       "    <tr>\n",
       "      <th>4</th>\n",
       "      <td>CP013957.1</td>\n",
       "      <td>3085555</td>\n",
       "      <td>CP013957.1 Staphylococcus aureus strain V521, ...</td>\n",
       "    </tr>\n",
       "  </tbody>\n",
       "</table>\n",
       "</div>"
      ],
      "text/plain": [
       "           ID   Length                                        Description\n",
       "0  CP029082.1  2911287  CP029082.1 Staphylococcus aureus strain AR465 ...\n",
       "1  CP030138.1  3050015  CP030138.1 Staphylococcus aureus strain M48 ch...\n",
       "2  CP039157.1  2970728  CP039157.1 Staphylococcus aureus strain P10 ch...\n",
       "3  CP039167.1  2866643  CP039167.1 Staphylococcus aureus strain R50 ch...\n",
       "4  CP013957.1  3085555  CP013957.1 Staphylococcus aureus strain V521, ..."
      ]
     },
     "execution_count": 47,
     "metadata": {},
     "output_type": "execute_result"
    }
   ],
   "source": [
    "# Creating a DataFrame from the lists\n",
    "df = pd.DataFrame({\n",
    "    'ID': seq_ids,\n",
    "    'Length': seq_lengths,\n",
    "    'Description': seq_descs\n",
    "})\n",
    "\n",
    "# Display the DataFrame\n",
    "df.head()"
   ]
  },
  {
   "cell_type": "code",
   "execution_count": 52,
   "id": "ce80936b-ad30-44b3-a564-65f653338617",
   "metadata": {},
   "outputs": [],
   "source": [
    "# Setting outside directory to save analysis into 'Desktop' \n",
    "outdir = 'C:/Users/Lenovo/Desktop'\n",
    "os.chdir(outdir)"
   ]
  },
  {
   "cell_type": "code",
   "execution_count": 53,
   "id": "6241e8d5-5d51-4547-a85a-1ffa99994e0c",
   "metadata": {},
   "outputs": [],
   "source": [
    "# Save analysis into outside directory (in desktop) \n",
    "df.to_csv('sequence_analysis.csv',index=False)"
   ]
  },
  {
   "cell_type": "markdown",
   "id": "364c15bc-e433-4492-a30b-36dd3c4717cb",
   "metadata": {},
   "source": [
    "## **Sequence analysis**\n",
    "**Sequence analysis of single sequence**"
   ]
  },
  {
   "cell_type": "markdown",
   "id": "a7547e6d-4b87-4cbf-87fc-8f594e447ef2",
   "metadata": {},
   "source": [
    "Now, we want to conduct simple sequence analysis for the first record sequence. \n",
    "The analysis consist of\n",
    "* How many nucleotide are present?\n",
    "* What are the percentage of each base?\n",
    "* Calculate the percentage of GC in the sequence\n",
    "* How many purines are present?\n",
    "* How many pyrimidines are present?\n",
    "* Calculate the percentage of purines in the sequence"
   ]
  },
  {
   "cell_type": "code",
   "execution_count": 54,
   "id": "dbd4cae8-3434-481e-a8db-338d6f7613fe",
   "metadata": {},
   "outputs": [],
   "source": [
    "# Obtaining first record sequence\n",
    "first_rec_sequence = sequences[0]"
   ]
  },
  {
   "cell_type": "code",
   "execution_count": 55,
   "id": "97a8597c-feec-4181-a3b3-6226bbf6f64d",
   "metadata": {},
   "outputs": [
    {
     "name": "stdout",
     "output_type": "stream",
     "text": [
      "Number of nucleotide in the first record sequence is 2911287\n"
     ]
    }
   ],
   "source": [
    "# How many nucleotide present (nucleotide length)\n",
    "number_of_nucleotide = len(first_rec_sequence)\n",
    "print('Number of nucleotide in the first record sequence is', number_of_nucleotide)"
   ]
  },
  {
   "cell_type": "code",
   "execution_count": 56,
   "id": "9a4dce3c-75f2-4732-9865-a8295d1a110c",
   "metadata": {},
   "outputs": [
    {
     "name": "stdout",
     "output_type": "stream",
     "text": [
      "Percentage of A: 33.75%\n",
      "Percentage of T: 33.33%\n",
      "Percentage of G: 16.48%\n",
      "Percentage of C: 16.44%\n"
     ]
    }
   ],
   "source": [
    "# What are the percentage of each base?\n",
    "\n",
    "# Count the occurrences of each base\n",
    "count_A = first_rec_sequence.count('A')\n",
    "count_T = first_rec_sequence.count('T')\n",
    "count_G = first_rec_sequence.count('G')\n",
    "count_C = first_rec_sequence.count('C')\n",
    "\n",
    "# Calculate the percentage of each base\n",
    "percentage_A = (count_A / number_of_nucleotide) * 100\n",
    "percentage_T = (count_T / number_of_nucleotide) * 100\n",
    "percentage_G = (count_G / number_of_nucleotide) * 100\n",
    "percentage_C = (count_C / number_of_nucleotide) * 100\n",
    "\n",
    "# Print the results\n",
    "print(f'Percentage of A: {percentage_A:.2f}%')\n",
    "print(f'Percentage of T: {percentage_T:.2f}%')\n",
    "print(f'Percentage of G: {percentage_G:.2f}%')\n",
    "print(f'Percentage of C: {percentage_C:.2f}%')"
   ]
  },
  {
   "cell_type": "code",
   "execution_count": 58,
   "id": "e781091c-3c17-448f-9517-a8f39130e2ce",
   "metadata": {},
   "outputs": [
    {
     "name": "stdout",
     "output_type": "stream",
     "text": [
      "Percentage of GC is 32.923068045163525\n",
      "Percentage of GC rounded is 32.92\n"
     ]
    }
   ],
   "source": [
    "# Calculate the percentage of GC in the sequence\n",
    "\n",
    "# Percentage of GC or GC content\n",
    "\n",
    "gc_count = count_G + count_C\n",
    "gc_content_percentage = gc_count/number_of_nucleotide * 100\n",
    "print('Percentage of GC is', gc_content_percentage)\n",
    "\n",
    "gc_content_rounded = round(gc_content_percentage, 2) # rounded\n",
    "print('Percentage of GC rounded is', gc_content_rounded)"
   ]
  },
  {
   "cell_type": "code",
   "execution_count": 59,
   "id": "e7497ca7-99f0-4070-8750-55a4e87cc49f",
   "metadata": {},
   "outputs": [
    {
     "name": "stdout",
     "output_type": "stream",
     "text": [
      "Number of purines is: 1462319\n"
     ]
    }
   ],
   "source": [
    "# Number of purines (AG)\n",
    "purines = count_A + count_G\n",
    "print('Number of purines is:', purines)"
   ]
  },
  {
   "cell_type": "code",
   "execution_count": 60,
   "id": "f46b250e-04b3-4002-b023-585e0409b66c",
   "metadata": {},
   "outputs": [
    {
     "name": "stdout",
     "output_type": "stream",
     "text": [
      "Number of pyrimidines is: 1448968\n"
     ]
    }
   ],
   "source": [
    "# Number of pyrimidines (CT)\n",
    "pyrimidines = count_C + count_T\n",
    "print('Number of pyrimidines is:', pyrimidines)"
   ]
  },
  {
   "cell_type": "code",
   "execution_count": 61,
   "id": "daf5b803-0bf4-4db5-a2f4-ed1c3ca9c1c3",
   "metadata": {},
   "outputs": [
    {
     "name": "stdout",
     "output_type": "stream",
     "text": [
      "Percentage of purines is 50.22929721459959\n",
      "Percentage of purines rounded is 50.23\n"
     ]
    }
   ],
   "source": [
    "# Calculate the percentage of purines in the sequence\n",
    "purines_percentage = purines/number_of_nucleotide * 100\n",
    "print('Percentage of purines is', purines_percentage)\n",
    "\n",
    "purines_rounded = round(purines_percentage, 2) # rounded\n",
    "print('Percentage of purines rounded is', purines_rounded)"
   ]
  }
 ],
 "metadata": {
  "kernelspec": {
   "display_name": "Python 3 (ipykernel)",
   "language": "python",
   "name": "python3"
  },
  "language_info": {
   "codemirror_mode": {
    "name": "ipython",
    "version": 3
   },
   "file_extension": ".py",
   "mimetype": "text/x-python",
   "name": "python",
   "nbconvert_exporter": "python",
   "pygments_lexer": "ipython3",
   "version": "3.11.5"
  }
 },
 "nbformat": 4,
 "nbformat_minor": 5
}
