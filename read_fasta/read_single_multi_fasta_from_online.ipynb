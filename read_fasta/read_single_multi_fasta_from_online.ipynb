{
 "cells": [
  {
   "cell_type": "markdown",
   "id": "126f2a2a-c791-4de1-bcf5-046baf9d7956",
   "metadata": {},
   "source": [
    "# **Read Single and multiple sequence file**"
   ]
  },
  {
   "cell_type": "markdown",
   "id": "e8745454-8366-4825-8262-ffad890a6b00",
   "metadata": {},
   "source": [
    "## **Read single fasta**\n",
    "\n",
    "* Fasta files are text-files that contains nucleotide (DNA) or peptide (amino acids) sequence\n",
    "* Single fasta contains single record or multi fasta contains two or more records\n",
    "* Fasta files can be read using biopython library.\n"
   ]
  },
  {
   "cell_type": "markdown",
   "id": "46deaf02-7d1a-46e3-a237-c009244c71c3",
   "metadata": {},
   "source": [
    "**Importing libraries**"
   ]
  },
  {
   "cell_type": "code",
   "execution_count": 1,
   "id": "75f71cc3-c484-4536-b2f2-0bafbd3e14fe",
   "metadata": {},
   "outputs": [],
   "source": [
    "# Importing library\n",
    "import requests\n",
    "from Bio import SeqIO\n",
    "from io import StringIO"
   ]
  },
  {
   "cell_type": "code",
   "execution_count": 2,
   "id": "9210ecef-3bdb-41bd-9c42-e7a2ed9776fd",
   "metadata": {},
   "outputs": [],
   "source": [
    "# Downloading the sequence file from the internet source\n",
    "url = \"https://raw.githubusercontent.com/harishmuh/Biopython_training/main/read_fasta/sequence.fasta\"\n",
    "response = requests.get(url)\n",
    "fasta_content = StringIO(response.text)"
   ]
  },
  {
   "cell_type": "code",
   "execution_count": 3,
   "id": "031b3364-362b-4c46-aa45-2b7e24539d17",
   "metadata": {},
   "outputs": [],
   "source": [
    "# Reading the file\n",
    "seq_object = SeqIO.read(fasta_content, \"fasta\")"
   ]
  },
  {
   "cell_type": "code",
   "execution_count": 4,
   "id": "aafe9879-42dc-4568-b35a-e89004dc7843",
   "metadata": {},
   "outputs": [
    {
     "data": {
      "text/plain": [
       "Bio.SeqRecord.SeqRecord"
      ]
     },
     "execution_count": 4,
     "metadata": {},
     "output_type": "execute_result"
    }
   ],
   "source": [
    "# Display the file type\n",
    "type(seq_object)"
   ]
  },
  {
   "cell_type": "code",
   "execution_count": 5,
   "id": "aec5272e-340c-4e7f-ad81-5defb54103c6",
   "metadata": {},
   "outputs": [
    {
     "name": "stdout",
     "output_type": "stream",
     "text": [
      "Sequence id : NG_047557.1\n",
      "Sequence record: CGGGCCATTTTGCGTAATAAGAAAAAGGATTAATTATGAGCGAATTGAATTAATAATAAGGTAATAGATTTACATTAGAAAATGAAAGGGGATTTTATGCGTGAGAATGTTACAGTCTATCCCGGCATTGCCAGTCGGGGATATTAAAAAGAGTATAGGTTTTTATTGCGATAAACTAGGTTTCACTTTGGTTCACCATGAAGATGGATTCGCAGTTCTAATGTGTAATGAGGTTCGGATTCATCTATGGGAGGCAAGTGATGAAGGCTGGCGCTCTCGTAGTAATGATTCACCGGTTTGTACAGGTGCGGAGTCGTTTATTGCTGGTACTGCTAGTTGCCGCATTGAAGTAGAGGGAATTGATGAATTATATCAACATATTAAGCCTTTGGGCATTTTGCACCCCAATACATCATTAAAAGATCAGTGGTGGGATGAACGAGACTTTGCAGTAATTGATCCCGACAACAATTTGATTAGCTTTTTTCAACAAATAAAAAGCTAAAATCTATTATTAATCTGTTCAGCAATCGGGCGCGATTGCTGAATAAAAGATACGAGAGACCTCTCTTGTATCTTTTTTATTTTGAGTGGTTTTGTCCGTT\n"
     ]
    }
   ],
   "source": [
    "# Displaying the sequence info\n",
    "print(f'Sequence id : {seq_object.id}') # Print the sequence ID\n",
    "print(f'Sequence record: {seq_object.seq}') # Print the sequence\n"
   ]
  },
  {
   "cell_type": "code",
   "execution_count": 6,
   "id": "edf476bd-179a-4770-9ef2-9d0fc513fd7f",
   "metadata": {},
   "outputs": [
    {
     "name": "stdout",
     "output_type": "stream",
     "text": [
      "Sequence name: NG_047557.1\n"
     ]
    }
   ],
   "source": [
    "# Sequence name\n",
    "seq_name = seq_object.name\n",
    "print(f'Sequence name: {seq_name}')"
   ]
  },
  {
   "cell_type": "code",
   "execution_count": 7,
   "id": "201d6074-688c-487b-8423-12548db31418",
   "metadata": {},
   "outputs": [
    {
     "name": "stdout",
     "output_type": "stream",
     "text": [
      "Sequence description: NG_047557.1 Staphylococcus aureus N315 bleO gene for bleomycin binding protein, complete CDS\n"
     ]
    }
   ],
   "source": [
    "# Sequence description\n",
    "description = seq_object.description\n",
    "print(f'Sequence description: {description}')"
   ]
  },
  {
   "cell_type": "code",
   "execution_count": 8,
   "id": "00762cda-0388-418d-8681-c901d3efbcb8",
   "metadata": {},
   "outputs": [
    {
     "name": "stdout",
     "output_type": "stream",
     "text": [
      "Sequence length: 605 bp\n"
     ]
    }
   ],
   "source": [
    "# Length of the sequence (base pairs)\n",
    "lenght_bp = len(seq_object)\n",
    "print(f'Sequence length: {lenght_bp} bp')"
   ]
  },
  {
   "cell_type": "markdown",
   "id": "843f04ea-158a-4620-8c9c-f11b1cd87d1c",
   "metadata": {},
   "source": [
    "## **Read multiple fasta files**"
   ]
  },
  {
   "cell_type": "markdown",
   "id": "8e9b55e0-f106-4e74-b7e4-c7780cd73f32",
   "metadata": {},
   "source": [
    "* A **multi-fasta** file contains two or more sequence records\n",
    "\n",
    "* Using iterations ( for/while loops), analysis can be done on all or some of the sequences\n",
    "\n",
    "* When working with several sequences, the results of the analysis can be better organized using **pandas** library"
   ]
  },
  {
   "cell_type": "code",
   "execution_count": 9,
   "id": "503e6e7f-7a94-4bca-9e84-33b4653f0762",
   "metadata": {},
   "outputs": [],
   "source": [
    "# importing python libraries to be used\n",
    "\n",
    "from Bio import SeqIO\n",
    "import pandas as pd\n",
    "import os"
   ]
  },
  {
   "cell_type": "code",
   "execution_count": 10,
   "id": "58c3fbcd-e83e-456a-8223-f5760856802a",
   "metadata": {},
   "outputs": [],
   "source": [
    "# Downloading the sequence file from the internet source\n",
    "url = \"https://raw.githubusercontent.com/harishmuh/Biopython_training/main/read_fasta/multi-fasta.fa\"\n",
    "response1 = requests.get(url)\n",
    "fasta_content_multi = StringIO(response1.text)"
   ]
  },
  {
   "cell_type": "code",
   "execution_count": 11,
   "id": "a6b19df5-1d69-4c9d-b1ce-91c9d6152f21",
   "metadata": {},
   "outputs": [],
   "source": [
    "# Parsing the multiple fasta records\n",
    "seq_object1 = SeqIO.parse(fasta_content_multi, \"fasta\")\n",
    "\n",
    "# Creating a list of SeqRecord objects\n",
    "sequences = [record for record in seq_object1]"
   ]
  },
  {
   "cell_type": "code",
   "execution_count": 12,
   "id": "c8894e75-c9e3-4dd9-9891-0cdb90183a9f",
   "metadata": {},
   "outputs": [
    {
     "name": "stdout",
     "output_type": "stream",
     "text": [
      "Number of sequences parsed: 5\n"
     ]
    }
   ],
   "source": [
    "# The number of sequences in sequence list\n",
    "print(\"Number of sequences parsed:\", len(sequences))"
   ]
  },
  {
   "cell_type": "code",
   "execution_count": 13,
   "id": "a2951ee3-a335-4d1d-827d-f97e9f4869c1",
   "metadata": {},
   "outputs": [
    {
     "name": "stdout",
     "output_type": "stream",
     "text": [
      "First sequence id : CP029082.1\n"
     ]
    }
   ],
   "source": [
    "# Checking the id of first sequence in 'sequences list'\n",
    "sequence_first_id = sequences[0].id\n",
    "print(f'First sequence id : {sequence_first_id}')"
   ]
  },
  {
   "cell_type": "code",
   "execution_count": 14,
   "id": "ce1e38ee-631f-4e09-818d-75fc5821fb72",
   "metadata": {},
   "outputs": [
    {
     "name": "stdout",
     "output_type": "stream",
     "text": [
      "First sequence description : CP029082.1 Staphylococcus aureus strain AR465 chromosome, complete genome\n"
     ]
    }
   ],
   "source": [
    "# Checking the description of first sequence\n",
    "sequence_first_desc = sequences[0].description\n",
    "print(f'First sequence description : {sequence_first_desc}')\n"
   ]
  },
  {
   "cell_type": "code",
   "execution_count": 15,
   "id": "40a37e94-69e7-4f7d-8956-c53171ea53ce",
   "metadata": {},
   "outputs": [
    {
     "name": "stdout",
     "output_type": "stream",
     "text": [
      "ID: CP029082.1\n",
      "Name: CP029082.1\n",
      "Description: CP029082.1 Staphylococcus aureus strain AR465 chromosome, complete genome\n",
      "Length: 2911287 bp\n",
      "\n",
      "ID: CP030138.1\n",
      "Name: CP030138.1\n",
      "Description: CP030138.1 Staphylococcus aureus strain M48 chromosome, complete genome\n",
      "Length: 3050015 bp\n",
      "\n",
      "ID: CP039157.1\n",
      "Name: CP039157.1\n",
      "Description: CP039157.1 Staphylococcus aureus strain P10 chromosome, complete genome\n",
      "Length: 2970728 bp\n",
      "\n",
      "ID: CP039167.1\n",
      "Name: CP039167.1\n",
      "Description: CP039167.1 Staphylococcus aureus strain R50 chromosome, complete genome\n",
      "Length: 2866643 bp\n",
      "\n",
      "ID: CP013957.1\n",
      "Name: CP013957.1\n",
      "Description: CP013957.1 Staphylococcus aureus strain V521, complete genome\n",
      "Length: 3085555 bp\n",
      "\n"
     ]
    }
   ],
   "source": [
    "# Creating for loop to view the record\n",
    "for record in sequences:\n",
    "        seq_id = record.id\n",
    "        seq_name = record.name\n",
    "        seq_description = record.description\n",
    "        seq_record = record.seq\n",
    "        seq_length = len(seq_record)\n",
    "\n",
    "        # Display sequence information\n",
    "        print(f\"ID: {seq_id}\")\n",
    "        print(f\"Name: {seq_name}\")\n",
    "        print(f\"Description: {seq_description}\")\n",
    "        print(f\"Length: {seq_length} bp\")\n",
    "        print('')"
   ]
  },
  {
   "cell_type": "code",
   "execution_count": 16,
   "id": "5d876d5d-5ace-40ce-a0fa-7ed347dcd596",
   "metadata": {},
   "outputs": [
    {
     "name": "stdout",
     "output_type": "stream",
     "text": [
      "1 analysis have completed\n",
      "2 analysis have completed\n",
      "3 analysis have completed\n",
      "4 analysis have completed\n",
      "5 analysis have completed\n"
     ]
    }
   ],
   "source": [
    "# create dataframe in Pandas to save the results\n",
    "\n",
    "# Creating empty lists\n",
    "seq_ids = []\n",
    "seq_lengths = []\n",
    "seq_descs = []\n",
    "\n",
    "# Initialize counter\n",
    "analysis = 0\n",
    "\n",
    "# Perform 'for loop' operation to place record 'IDs', 'lengths', 'desc' into lists\n",
    "for record in sequences:\n",
    "    seq_id = record.id\n",
    "    seq_record = record.seq\n",
    "    seq_length = len(seq_record)\n",
    "    seq_description = record.description\n",
    "    \n",
    "    # Placing into the empty lists\n",
    "    seq_ids.append(seq_id)\n",
    "    seq_lengths.append(seq_length)\n",
    "    seq_descs.append(seq_description)\n",
    "\n",
    "    # Calculating total analysis\n",
    "    analysis = analysis + 1\n",
    "    print(f'{analysis} analysis have completed')\n",
    "    "
   ]
  },
  {
   "cell_type": "code",
   "execution_count": 17,
   "id": "1c545fb7-9238-4e35-af86-5b0726792b21",
   "metadata": {},
   "outputs": [
    {
     "data": {
      "text/html": [
       "<div>\n",
       "<style scoped>\n",
       "    .dataframe tbody tr th:only-of-type {\n",
       "        vertical-align: middle;\n",
       "    }\n",
       "\n",
       "    .dataframe tbody tr th {\n",
       "        vertical-align: top;\n",
       "    }\n",
       "\n",
       "    .dataframe thead th {\n",
       "        text-align: right;\n",
       "    }\n",
       "</style>\n",
       "<table border=\"1\" class=\"dataframe\">\n",
       "  <thead>\n",
       "    <tr style=\"text-align: right;\">\n",
       "      <th></th>\n",
       "      <th>ID</th>\n",
       "      <th>Length</th>\n",
       "      <th>Description</th>\n",
       "    </tr>\n",
       "  </thead>\n",
       "  <tbody>\n",
       "    <tr>\n",
       "      <th>0</th>\n",
       "      <td>CP029082.1</td>\n",
       "      <td>2911287</td>\n",
       "      <td>CP029082.1 Staphylococcus aureus strain AR465 ...</td>\n",
       "    </tr>\n",
       "    <tr>\n",
       "      <th>1</th>\n",
       "      <td>CP030138.1</td>\n",
       "      <td>3050015</td>\n",
       "      <td>CP030138.1 Staphylococcus aureus strain M48 ch...</td>\n",
       "    </tr>\n",
       "    <tr>\n",
       "      <th>2</th>\n",
       "      <td>CP039157.1</td>\n",
       "      <td>2970728</td>\n",
       "      <td>CP039157.1 Staphylococcus aureus strain P10 ch...</td>\n",
       "    </tr>\n",
       "    <tr>\n",
       "      <th>3</th>\n",
       "      <td>CP039167.1</td>\n",
       "      <td>2866643</td>\n",
       "      <td>CP039167.1 Staphylococcus aureus strain R50 ch...</td>\n",
       "    </tr>\n",
       "    <tr>\n",
       "      <th>4</th>\n",
       "      <td>CP013957.1</td>\n",
       "      <td>3085555</td>\n",
       "      <td>CP013957.1 Staphylococcus aureus strain V521, ...</td>\n",
       "    </tr>\n",
       "  </tbody>\n",
       "</table>\n",
       "</div>"
      ],
      "text/plain": [
       "           ID   Length                                        Description\n",
       "0  CP029082.1  2911287  CP029082.1 Staphylococcus aureus strain AR465 ...\n",
       "1  CP030138.1  3050015  CP030138.1 Staphylococcus aureus strain M48 ch...\n",
       "2  CP039157.1  2970728  CP039157.1 Staphylococcus aureus strain P10 ch...\n",
       "3  CP039167.1  2866643  CP039167.1 Staphylococcus aureus strain R50 ch...\n",
       "4  CP013957.1  3085555  CP013957.1 Staphylococcus aureus strain V521, ..."
      ]
     },
     "execution_count": 17,
     "metadata": {},
     "output_type": "execute_result"
    }
   ],
   "source": [
    "# Creating a DataFrame from the lists\n",
    "df = pd.DataFrame({\n",
    "    'ID': seq_ids,\n",
    "    'Length': seq_lengths,\n",
    "    'Description': seq_descs\n",
    "})\n",
    "\n",
    "# Display the DataFrame\n",
    "df.head()"
   ]
  },
  {
   "cell_type": "code",
   "execution_count": 18,
   "id": "ce80936b-ad30-44b3-a564-65f653338617",
   "metadata": {},
   "outputs": [],
   "source": [
    "# Setting outside directory to save analysis into 'Desktop' \n",
    "outdir = 'C:/Users/Lenovo/Desktop'\n",
    "os.chdir(outdir)"
   ]
  },
  {
   "cell_type": "code",
   "execution_count": 19,
   "id": "6241e8d5-5d51-4547-a85a-1ffa99994e0c",
   "metadata": {},
   "outputs": [],
   "source": [
    "# Save analysis into outside directory (in desktop) \n",
    "df.to_csv('sequence_analysis_list.csv',index=False)"
   ]
  },
  {
   "cell_type": "markdown",
   "id": "364c15bc-e433-4492-a30b-36dd3c4717cb",
   "metadata": {},
   "source": [
    "## **Sequence analysis**\n",
    "**Sequence analysis of single sequence**"
   ]
  },
  {
   "cell_type": "markdown",
   "id": "a7547e6d-4b87-4cbf-87fc-8f594e447ef2",
   "metadata": {},
   "source": [
    "Now, we want to conduct simple sequence analysis for the first record sequence. \n",
    "The analysis consist of\n",
    "* How many nucleotide are present?\n",
    "* What are the percentage of each base?\n",
    "* Calculate the percentage of GC in the sequence\n",
    "* How many purines are present?\n",
    "* How many pyrimidines are present?\n",
    "* Calculate the percentage of purines in the sequence"
   ]
  },
  {
   "cell_type": "code",
   "execution_count": 20,
   "id": "dbd4cae8-3434-481e-a8db-338d6f7613fe",
   "metadata": {},
   "outputs": [],
   "source": [
    "# Obtaining first record sequence\n",
    "first_rec_sequence = sequences[0]"
   ]
  },
  {
   "cell_type": "code",
   "execution_count": 21,
   "id": "97a8597c-feec-4181-a3b3-6226bbf6f64d",
   "metadata": {},
   "outputs": [
    {
     "name": "stdout",
     "output_type": "stream",
     "text": [
      "Number of nucleotide in the first record sequence is 2911287\n"
     ]
    }
   ],
   "source": [
    "# How many nucleotide present (nucleotide length)\n",
    "number_of_nucleotide = len(first_rec_sequence)\n",
    "print('Number of nucleotide in the first record sequence is', number_of_nucleotide)"
   ]
  },
  {
   "cell_type": "code",
   "execution_count": 22,
   "id": "9a4dce3c-75f2-4732-9865-a8295d1a110c",
   "metadata": {},
   "outputs": [
    {
     "name": "stdout",
     "output_type": "stream",
     "text": [
      "Percentage of A: 33.75%\n",
      "Percentage of T: 33.33%\n",
      "Percentage of G: 16.48%\n",
      "Percentage of C: 16.44%\n"
     ]
    }
   ],
   "source": [
    "# What are the percentage of each base?\n",
    "\n",
    "# Count the occurrences of each base\n",
    "count_A = first_rec_sequence.count('A')\n",
    "count_T = first_rec_sequence.count('T')\n",
    "count_G = first_rec_sequence.count('G')\n",
    "count_C = first_rec_sequence.count('C')\n",
    "\n",
    "# Calculate the percentage of each base\n",
    "percentage_A = (count_A / number_of_nucleotide) * 100\n",
    "percentage_T = (count_T / number_of_nucleotide) * 100\n",
    "percentage_G = (count_G / number_of_nucleotide) * 100\n",
    "percentage_C = (count_C / number_of_nucleotide) * 100\n",
    "\n",
    "# Print the results\n",
    "print(f'Percentage of A: {percentage_A:.2f}%')\n",
    "print(f'Percentage of T: {percentage_T:.2f}%')\n",
    "print(f'Percentage of G: {percentage_G:.2f}%')\n",
    "print(f'Percentage of C: {percentage_C:.2f}%')"
   ]
  },
  {
   "cell_type": "code",
   "execution_count": 23,
   "id": "e781091c-3c17-448f-9517-a8f39130e2ce",
   "metadata": {},
   "outputs": [
    {
     "name": "stdout",
     "output_type": "stream",
     "text": [
      "Percentage of GC is 32.923068045163525\n",
      "Percentage of GC rounded is 32.92\n"
     ]
    }
   ],
   "source": [
    "# Calculate the percentage of GC in the sequence\n",
    "\n",
    "# Percentage of GC or GC content\n",
    "\n",
    "gc_count = count_G + count_C\n",
    "gc_content_percentage = gc_count/number_of_nucleotide * 100\n",
    "print('Percentage of GC is', gc_content_percentage)\n",
    "\n",
    "gc_content_rounded = round(gc_content_percentage, 2) # rounded\n",
    "print('Percentage of GC rounded is', gc_content_rounded)"
   ]
  },
  {
   "cell_type": "code",
   "execution_count": 24,
   "id": "e7497ca7-99f0-4070-8750-55a4e87cc49f",
   "metadata": {},
   "outputs": [
    {
     "name": "stdout",
     "output_type": "stream",
     "text": [
      "Number of purines is: 1462319\n"
     ]
    }
   ],
   "source": [
    "# Number of purines (AG)\n",
    "purines = count_A + count_G\n",
    "print('Number of purines is:', purines)"
   ]
  },
  {
   "cell_type": "code",
   "execution_count": 25,
   "id": "f46b250e-04b3-4002-b023-585e0409b66c",
   "metadata": {},
   "outputs": [
    {
     "name": "stdout",
     "output_type": "stream",
     "text": [
      "Number of pyrimidines is: 1448968\n"
     ]
    }
   ],
   "source": [
    "# Number of pyrimidines (CT)\n",
    "pyrimidines = count_C + count_T\n",
    "print('Number of pyrimidines is:', pyrimidines)"
   ]
  },
  {
   "cell_type": "code",
   "execution_count": 26,
   "id": "daf5b803-0bf4-4db5-a2f4-ed1c3ca9c1c3",
   "metadata": {},
   "outputs": [
    {
     "name": "stdout",
     "output_type": "stream",
     "text": [
      "Percentage of purines is 50.22929721459959\n",
      "Percentage of purines rounded is 50.23\n"
     ]
    }
   ],
   "source": [
    "# Calculate the percentage of purines in the sequence\n",
    "purines_percentage = purines/number_of_nucleotide * 100\n",
    "print('Percentage of purines is', purines_percentage)\n",
    "\n",
    "purines_rounded = round(purines_percentage, 2) # rounded\n",
    "print('Percentage of purines rounded is', purines_rounded)"
   ]
  }
 ],
 "metadata": {
  "kernelspec": {
   "display_name": "Python 3 (ipykernel)",
   "language": "python",
   "name": "python3"
  },
  "language_info": {
   "codemirror_mode": {
    "name": "ipython",
    "version": 3
   },
   "file_extension": ".py",
   "mimetype": "text/x-python",
   "name": "python",
   "nbconvert_exporter": "python",
   "pygments_lexer": "ipython3",
   "version": "3.11.5"
  }
 },
 "nbformat": 4,
 "nbformat_minor": 5
}
